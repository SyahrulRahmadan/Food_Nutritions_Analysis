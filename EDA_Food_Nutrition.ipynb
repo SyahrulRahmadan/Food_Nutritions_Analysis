{
 "cells": [
  {
   "cell_type": "code",
   "execution_count": 3,
   "metadata": {},
   "outputs": [],
   "source": [
    "import numpy\n",
    "import matplotlib as plt\n",
    "import pandas as pd"
   ]
  },
  {
   "cell_type": "code",
   "execution_count": 4,
   "metadata": {},
   "outputs": [],
   "source": [
    "df_1 = pd.read_csv(\"foodstruct_nutritional_facts.csv\")"
   ]
  },
  {
   "cell_type": "code",
   "execution_count": 5,
   "metadata": {},
   "outputs": [
    {
     "name": "stdout",
     "output_type": "stream",
     "text": [
      "<class 'pandas.core.frame.DataFrame'>\n",
      "RangeIndex: 1174 entries, 0 to 1173\n",
      "Data columns (total 59 columns):\n",
      " #   Column                                Non-Null Count  Dtype  \n",
      "---  ------                                --------------  -----  \n",
      " 0   Food Name                             1174 non-null   object \n",
      " 1   Category Name                         1174 non-null   object \n",
      " 2   Calcium                               1149 non-null   float64\n",
      " 3   Calories                              1174 non-null   float64\n",
      " 4   Carbs                                 1174 non-null   float64\n",
      " 5   Cholesterol                           1119 non-null   float64\n",
      " 6   Copper                                1094 non-null   float64\n",
      " 7   Fats                                  1174 non-null   float64\n",
      " 8   Fiber                                 1076 non-null   float64\n",
      " 9   Folate                                1071 non-null   float64\n",
      " 10  Iron                                  1153 non-null   float64\n",
      " 11  Magnesium                             1113 non-null   float64\n",
      " 12  Monounsaturated Fat                   1064 non-null   float64\n",
      " 13  Net carbs                             1173 non-null   float64\n",
      " 14  Omega-3 - DHA                         902 non-null    float64\n",
      " 15  Omega-3 - DPA                         895 non-null    float64\n",
      " 16  Omega-3 - EPA                         903 non-null    float64\n",
      " 17  Phosphorus                            1126 non-null   float64\n",
      " 18  Polyunsaturated fat                   1064 non-null   float64\n",
      " 19  Potassium                             1129 non-null   float64\n",
      " 20  Protein                               1174 non-null   float64\n",
      " 21  Saturated Fat                         1093 non-null   float64\n",
      " 22  Selenium                              1020 non-null   float64\n",
      " 23  Sodium                                1153 non-null   float64\n",
      " 24  Trans Fat                             634 non-null    float64\n",
      " 25  Vitamin A (IU)                        1118 non-null   float64\n",
      " 26  Vitamin A RAE                         1056 non-null   float64\n",
      " 27  Vitamin B1                            1115 non-null   float64\n",
      " 28  Vitamin B12                           1083 non-null   float64\n",
      " 29  Vitamin B2                            1116 non-null   float64\n",
      " 30  Vitamin B3                            1115 non-null   float64\n",
      " 31  Vitamin B5                            975 non-null    float64\n",
      " 32  Vitamin B6                            1091 non-null   float64\n",
      " 33  Vitamin C                             1124 non-null   float64\n",
      " 34  Zinc                                  1108 non-null   float64\n",
      " 35  Choline                               732 non-null    float64\n",
      " 36  Fructose                              302 non-null    float64\n",
      " 37  Histidine                             709 non-null    float64\n",
      " 38  Isoleucine                            713 non-null    float64\n",
      " 39  Leucine                               713 non-null    float64\n",
      " 40  Lysine                                721 non-null    float64\n",
      " 41  Manganese                             1012 non-null   float64\n",
      " 42  Methionine                            718 non-null    float64\n",
      " 43  Phenylalanine                         710 non-null    float64\n",
      " 44  Starch                                199 non-null    float64\n",
      " 45  Sugar                                 874 non-null    float64\n",
      " 46  Threonine                             712 non-null    float64\n",
      " 47  Tryptophan                            710 non-null    float64\n",
      " 48  Valine                                713 non-null    float64\n",
      " 49  Vitamin D                             829 non-null    float64\n",
      " 50  Vitamin E                             816 non-null    float64\n",
      " 51  Vitamin K                             791 non-null    float64\n",
      " 52  Omega-3 - ALA                         176 non-null    float64\n",
      " 53  Omega-6 - Eicosadienoic acid          265 non-null    float64\n",
      " 54  Omega-6 - Gamma-linoleic acid         170 non-null    float64\n",
      " 55  Omega-3 - Eicosatrienoic acid         114 non-null    float64\n",
      " 56  Omega-6 - Dihomo-gamma-linoleic acid  119 non-null    float64\n",
      " 57  Omega-6 - Linoleic acid               141 non-null    float64\n",
      " 58  Omega-6 - Arachidonic acid            1 non-null      float64\n",
      "dtypes: float64(57), object(2)\n",
      "memory usage: 541.3+ KB\n"
     ]
    }
   ],
   "source": [
    "df_1.info()"
   ]
  },
  {
   "cell_type": "code",
   "execution_count": null,
   "metadata": {},
   "outputs": [],
   "source": []
  }
 ],
 "metadata": {
  "kernelspec": {
   "display_name": "dataanalyst",
   "language": "python",
   "name": "python3"
  },
  "language_info": {
   "codemirror_mode": {
    "name": "ipython",
    "version": 3
   },
   "file_extension": ".py",
   "mimetype": "text/x-python",
   "name": "python",
   "nbconvert_exporter": "python",
   "pygments_lexer": "ipython3",
   "version": "3.12.4"
  }
 },
 "nbformat": 4,
 "nbformat_minor": 2
}
